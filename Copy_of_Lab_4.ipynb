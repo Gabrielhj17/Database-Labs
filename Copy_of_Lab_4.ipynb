{
  "cells": [
    {
      "cell_type": "markdown",
      "metadata": {
        "id": "view-in-github",
        "colab_type": "text"
      },
      "source": [
        "<a href=\"https://colab.research.google.com/github/Gabrielhj17/Database-Labs/blob/main/Copy_of_Lab_4.ipynb\" target=\"_parent\"><img src=\"https://colab.research.google.com/assets/colab-badge.svg\" alt=\"Open In Colab\"/></a>"
      ]
    },
    {
      "cell_type": "markdown",
      "metadata": {
        "id": "df1XJi-GNXw0"
      },
      "source": [
        "# Lab 4: _SciPy_, statistical inference and hypothesis testing\n",
        "\n",
        "In this lab, we are going to explore statistical inference and hypothesis testing techniques with _SciPy_. Since you are reading this notebook, make sure the following file is in the same folder as this notebook:\n",
        "\"basketball_heights.csv\"\n",
        "\n",
        "\n",
        "If you have not already done so, I would recommend going through the\n",
        "1. [_NumPy_ tutorial](https://numpy.org/numpy-tutorials/)\n",
        "2. [_matplotlib_ tutorial](https://matplotlib.org/stable/tutorials/index.html)\n",
        "3. [_seaborn_ tutorial](https://seaborn.pydata.org/tutorial.html)\n",
        "4. [_pandas_ tutorial](https://pandas.pydata.org/docs/getting_started/intro_tutorials/index.html)\n",
        "\n",
        "If there is something you are not familiar with, remember to consult the\n",
        "1. [_NumPy_ documentation](https://numpy.org/doc/stable/reference/index.html#reference)\n",
        "2. [_matplotlib_ documentation](https://matplotlib.org/stable/api/index)\n",
        "3. [_seaborn_ documentation](https://seaborn.pydata.org/api.html)\n",
        "4. [_pandas_ documentation](https://pandas.pydata.org/docs/reference/index.html)\n",
        "5. [_SciPy_ documentation](https://docs.scipy.org/doc/scipy/reference/index.html#scipy-api)"
      ]
    },
    {
      "cell_type": "markdown",
      "metadata": {
        "id": "Mq2NfxnrNXw2"
      },
      "source": [
        "- In the lecture, I focused on the key concepts in statistical inference and hypothesis testing. These are the important parts, and are often under-appreciated / hard to understand/google/chatgpt, leading to bad data interpretation.\n",
        "- The other side is actually doing the hypothesis tests/inference. We haven't explicitly covered how to do everything in the questions in lectures. No problem! You have the internet at your fingers.\n",
        "- The skill of going from concept to implementation without a helping hand to guide you is an important one for a programmer / data scientist. Remember, there are hundreds of hypothesis test algorithms, and you might have to use any one of them in real life."
      ]
    },
    {
      "cell_type": "code",
      "execution_count": null,
      "metadata": {
        "id": "oFH2-aJUNXw2"
      },
      "outputs": [],
      "source": [
        "import pandas as pd\n",
        "import numpy as np\n",
        "from scipy import stats"
      ]
    },
    {
      "cell_type": "markdown",
      "metadata": {
        "id": "4Rh52qcyNXw2"
      },
      "source": [
        "## Exercise 1 - testing mean with known variance\n",
        "\n",
        "basketball_heights.csv contains 3 columns of 3 different regions. We want to see if their means are different. The population parameters are\n",
        "\n",
        "\\begin{align*}\n",
        "X_1 &\\sim N(1.80, 0.10) \\\\\n",
        "X_2 &\\sim N(1.75, 0.05) \\\\\n",
        "X_3 &\\sim N(1.90, 0.10)\n",
        "\\end{align*}"
      ]
    },
    {
      "cell_type": "markdown",
      "metadata": {
        "id": "DyJd5wSUNXw2"
      },
      "source": [
        "### Exercise 1a) Read in basketball_heights.csv"
      ]
    },
    {
      "cell_type": "code",
      "execution_count": null,
      "metadata": {
        "id": "W_KhCH6QNXw3",
        "colab": {
          "base_uri": "https://localhost:8080/"
        },
        "outputId": "52924147-da6d-4f2a-a341-81ba61dbddae"
      },
      "outputs": [
        {
          "output_type": "stream",
          "name": "stdout",
          "text": [
            "Mounted at /content/drive\n",
            "    region_1  region_2  region_3\n",
            "0   1.834604  1.817755  1.833082\n",
            "1   1.809238  1.713023  1.993077\n",
            "2   1.643073  1.786917  1.910538\n",
            "3   1.821316  1.802915  1.891940\n",
            "4   1.819650  1.707106  1.758786\n",
            "5   1.870947  1.723106  2.025066\n",
            "6   1.675446  1.663705  1.868202\n",
            "7   1.915565  1.769477  2.022259\n",
            "8   1.879801  1.734851  1.646696\n",
            "9   1.825850  1.763273  1.989867\n",
            "10       NaN  1.738801  1.988110\n",
            "11       NaN  1.732850  1.942570\n",
            "12       NaN  1.850859  1.951662\n",
            "13       NaN  1.706773  1.971812\n",
            "14       NaN  1.702660  2.075395\n",
            "15       NaN  1.639003       NaN\n",
            "16       NaN  1.790037       NaN\n",
            "17       NaN  1.711083       NaN\n",
            "18       NaN  1.833889       NaN\n",
            "19       NaN  1.656471       NaN\n"
          ]
        }
      ],
      "source": [
        "from google.colab import drive\n",
        "drive.mount('/content/drive', force_remount=True)\n",
        "\n",
        "file_path = '/content/drive//My Drive/Colab Notebooks/basketball_heights.csv'\n",
        "df = pd.read_csv(file_path)\n",
        "print(df)"
      ]
    },
    {
      "cell_type": "markdown",
      "metadata": {
        "id": "hKkQ2S35NXw3"
      },
      "source": [
        "### Exercise 1b) Calculate the sample mean and sample size for each region"
      ]
    },
    {
      "cell_type": "code",
      "execution_count": null,
      "metadata": {
        "id": "7pGX5sRrNXw3",
        "colab": {
          "base_uri": "https://localhost:8080/"
        },
        "outputId": "2de32b6a-f1e7-4bb6-8e9f-cf3620cd21cb"
      },
      "outputs": [
        {
          "output_type": "stream",
          "name": "stdout",
          "text": [
            "region_1    1.809549\n",
            "region_2    1.742228\n",
            "region_3    1.924604\n",
            "dtype: float64\n",
            "    region_1  region_2  region_3\n",
            "17       NaN  1.711083       NaN\n"
          ]
        }
      ],
      "source": [
        "mean = df.mean()\n",
        "sampleSize = df.sample()\n",
        "print(mean)\n",
        "print(sampleSize)"
      ]
    },
    {
      "cell_type": "markdown",
      "metadata": {
        "id": "8PMPblmDNXw3"
      },
      "source": [
        "### Exercise 1c) Save the sample mean, sample size, true mean and true standard deviation into a dictionary"
      ]
    },
    {
      "cell_type": "code",
      "execution_count": null,
      "metadata": {
        "id": "jtdPUqrlNXw3",
        "colab": {
          "base_uri": "https://localhost:8080/"
        },
        "outputId": "47aeba91-2872-41c2-c4fa-4be68a5c5be7"
      },
      "outputs": [
        {
          "output_type": "stream",
          "name": "stdout",
          "text": [
            "{'sample_mean': 1.8095492091389798, 'sample_size': 10, 'true_mean': 1.8, 'true_std': 0.1}\n",
            "{'sample_mean': 1.7422276451800596, 'sample_size': 20, 'true_mean': 1.75, 'true_std': 0.05}\n",
            "{'sample_mean': 1.92460411015202, 'sample_size': 15, 'true_mean': 1.9, 'true_std': 0.1}\n"
          ]
        }
      ],
      "source": [
        "region_stats = {\n",
        "    'region1': {\n",
        "        'sample_mean': df['region_1'].mean(),\n",
        "        'sample_size': len(df['region_1'].dropna()),\n",
        "        'true_mean': 1.80,\n",
        "        'true_std': 0.10\n",
        "    },\n",
        "    'region2': {\n",
        "        'sample_mean': df['region_2'].mean(),\n",
        "        'sample_size': len(df['region_2'].dropna()),\n",
        "        'true_mean': 1.75,\n",
        "        'true_std': 0.05\n",
        "    },\n",
        "    'region3': {\n",
        "        'sample_mean': df['region_3'].mean(),\n",
        "        'sample_size': len(df['region_3'].dropna()),\n",
        "        'true_mean': 1.90,\n",
        "        'true_std': 0.10\n",
        "    }\n",
        "}\n",
        "\n",
        "print(region_stats['region1'])\n",
        "print(region_stats['region2'])\n",
        "print(region_stats['region3'])"
      ]
    },
    {
      "cell_type": "markdown",
      "metadata": {
        "id": "3b-_hhHGNXw3"
      },
      "source": [
        "### Exercise 1d) Calculate the standard error for each region and save it into the dictionary"
      ]
    },
    {
      "cell_type": "code",
      "execution_count": null,
      "metadata": {
        "id": "ImMqWF9PNXw3",
        "colab": {
          "base_uri": "https://localhost:8080/"
        },
        "outputId": "b05a8d47-ebd8-4b23-fbd7-4fafd8db1a89"
      },
      "outputs": [
        {
          "output_type": "stream",
          "name": "stdout",
          "text": [
            "{'sample_mean': 1.8095492091389798, 'sample_size': 10, 'true_mean': 1.8, 'true_std': 0.1, 'standard_error': 0.0192608215221018}\n",
            "{'sample_mean': 1.7422276451800596, 'sample_size': 20, 'true_mean': 1.75, 'true_std': 0.05, 'standard_error': 0.013142196178080219}\n",
            "{'sample_mean': 1.92460411015202, 'sample_size': 15, 'true_mean': 1.9, 'true_std': 0.1, 'standard_error': 0.025084273139467914}\n"
          ]
        }
      ],
      "source": [
        "stdError1 = df['region_1'].std() / np.sqrt(len(df['region_1']))\n",
        "stdError2 = df['region_2'].std() / np.sqrt(len(df['region_2']))\n",
        "stdError3 = df['region_3'].std() / np.sqrt(len(df['region_3']))\n",
        "\n",
        "region_stats['region1']['standard_error'] = stdError1\n",
        "region_stats['region2']['standard_error'] = stdError2\n",
        "region_stats['region3']['standard_error'] = stdError3\n",
        "\n",
        "print(region_stats['region1'])\n",
        "print(region_stats['region2'])\n",
        "print(region_stats['region3'])"
      ]
    },
    {
      "cell_type": "markdown",
      "metadata": {
        "id": "fvTZaheUNXw3"
      },
      "source": [
        "### Exercise 1e) Two-tail z-test on the mean\n",
        "\n",
        "I want to conduct a two-tailed z-test on region 1, checking to see if the sample mean is different to the region mean at the 1% significance level. Fill in the correct alternative hypothesis in the following mathematical statement:\n",
        "\n",
        "\\begin{align*}\n",
        "\\mathbf{H}_0 \\quad &: \\quad \\mu = 1.8 \\\\\n",
        "\\mathbf{H}_1 \\quad &: \\quad \\mu \\neq 1.8\n",
        "\\end{align*}\n",
        "\n",
        "_You'll need to double click on this cell and edit the latex using one of the following latex commands:_\n",
        "1. \\lt\n",
        "2. \\gt\n",
        "3. \\neq\n",
        "\n",
        "Now conduct the test"
      ]
    },
    {
      "cell_type": "code",
      "execution_count": null,
      "metadata": {
        "id": "N3HRD9-_NXw4",
        "colab": {
          "base_uri": "https://localhost:8080/"
        },
        "outputId": "7920136a-50dc-4aef-e815-192fe298e868"
      },
      "outputs": [
        {
          "output_type": "stream",
          "name": "stdout",
          "text": [
            "Z-statistic: 0.3019725073247129\n",
            "P-value: 0.7626730211598407\n",
            "Fail to reject the null hypothesis (H₀)\n"
          ]
        }
      ],
      "source": [
        "mu_0 = region_stats['region1']['true_mean']\n",
        "sample_mean = region_stats['region1']['sample_mean']\n",
        "sample_std_dev = region_stats['region1']['true_std']\n",
        "sample_size = region_stats['region1']['sample_size']\n",
        "\n",
        "z_statistic = (sample_mean - mu_0) / (sample_std_dev / np.sqrt(sample_size))\n",
        "\n",
        "p_value = 2 * (1 - stats.norm.cdf(abs(z_statistic)))\n",
        "\n",
        "#1% significance level\n",
        "alpha = 0.01\n",
        "\n",
        "# Output results\n",
        "print(f\"Z-statistic: {z_statistic}\")\n",
        "print(f\"P-value: {p_value}\")\n",
        "if p_value < alpha:\n",
        "    print(\"Reject the null hypothesis (H₀)\")\n",
        "else:\n",
        "    print(\"Fail to reject the null hypothesis (H₀)\")"
      ]
    },
    {
      "cell_type": "markdown",
      "metadata": {
        "id": "Rl2rPL9UNXw4"
      },
      "source": [
        "### Exercise 1f) One-tail z-test on the mean\n",
        "\n",
        "I want to conduct a one-tailed z-test on region 2, checking to see if the sample mean is smaller than the region mean at the 1% significance level. Fill in the correct alternative hypothesis in the following mathematical statement:\n",
        "\n",
        "\\begin{align*}\n",
        "\\mathbf{H}_0 \\quad &: \\quad \\mu = 1.75 \\\\\n",
        "\\mathbf{H}_1 \\quad &: \\quad \\mu\n",
        "\\end{align*}\n",
        "\n",
        "_You'll need to double click on this cell and edit the latex using one of the following latex commands:_\n",
        "1. \\lt\n",
        "2. \\gt\n",
        "3. \\neq\n",
        "\n",
        "Now conduct the test"
      ]
    },
    {
      "cell_type": "code",
      "execution_count": null,
      "metadata": {
        "id": "XrMwCA-uNXw4"
      },
      "outputs": [],
      "source": []
    },
    {
      "cell_type": "markdown",
      "metadata": {
        "id": "uQz7UYnZNXw4"
      },
      "source": [
        "### Exercise 1g) One-tail z-test on the mean\n",
        "\n",
        "I want to conduct a one-tailed z-test on region 3, checking to see if the sample mean is larger than the region mean at the 1% significance level. Fill in the correct alternative hypothesis in the following mathematical statement:\n",
        "\n",
        "\\begin{align*}\n",
        "\\mathbf{H}_0 \\quad &: \\quad \\mu = 1.9 \\\\\n",
        "\\mathbf{H}_1 \\quad &: \\quad \\mu\n",
        "\\end{align*}\n",
        "\n",
        "_You'll need to double click on this cell and edit the latex using one of the following latex commands:_\n",
        "1. \\lt\n",
        "2. \\gt\n",
        "3. \\neq\n",
        "\n",
        "Now conduct the test"
      ]
    },
    {
      "cell_type": "code",
      "execution_count": null,
      "metadata": {
        "id": "MwL-Rii3NXw4"
      },
      "outputs": [],
      "source": []
    },
    {
      "cell_type": "markdown",
      "metadata": {
        "id": "7bIF4QHXNXw4"
      },
      "source": [
        "### Exercise 1h) Two-tail z-test on the difference of means\n",
        "\n",
        "I want to conduct a two-tailed z-test on whether the difference of the mean of region 1 to region 2 is different to 0, using a significance level of 0.1%. Fill in the correct alternative hypothesis in the following mathematical statement:\n",
        "\n",
        "\\begin{align*}\n",
        "\\mathbf{H}_0 \\quad &: \\quad \\mu_1 - \\mu_2 = 0 \\\\\n",
        "\\mathbf{H}_1 \\quad &: \\quad \\mu_1 - \\mu_2\n",
        "\\end{align*}\n",
        "\n",
        "_You'll need to double click on this cell and edit the latex using one of the following latex commands:_\n",
        "1. \\lt\n",
        "2. \\gt\n",
        "3. \\neq\n",
        "\n",
        "Now conduct the test."
      ]
    },
    {
      "cell_type": "markdown",
      "metadata": {
        "id": "Zj6auuDsNXw4"
      },
      "source": []
    },
    {
      "cell_type": "code",
      "execution_count": null,
      "metadata": {
        "id": "gOBzZF4bNXw4"
      },
      "outputs": [],
      "source": []
    },
    {
      "cell_type": "markdown",
      "metadata": {
        "id": "Nt0agRhtNXw4"
      },
      "source": [
        "### Exercise 1i) One-tail z-test on the difference of means\n",
        "\n",
        "I want to conduct a one-tailed z-test on whether the difference of the mean of region 2 to region 3 is smaller than 0, using a significance level of 0.1%. Fill in the correct alternative hypothesis in the following mathematical statement:\n",
        "\n",
        "\\begin{align*}\n",
        "\\mathbf{H}_0 \\quad &: \\quad \\mu_2 - \\mu_3 = 0 \\\\\n",
        "\\mathbf{H}_1 \\quad &: \\quad \\mu_2 - \\mu_3\n",
        "\\end{align*}\n",
        "\n",
        "_You'll need to double click on this cell and edit the latex using one of the following latex commands:_\n",
        "1. \\lt\n",
        "2. \\gt\n",
        "3. \\neq\n",
        "\n",
        "Now conduct the test."
      ]
    },
    {
      "cell_type": "code",
      "execution_count": null,
      "metadata": {
        "id": "-XF4jgkLNXw4"
      },
      "outputs": [],
      "source": []
    },
    {
      "cell_type": "markdown",
      "metadata": {
        "id": "pT430_aJNXw4"
      },
      "source": [
        "### Exercise 1j) One-tail z-test on the difference of means\n",
        "\n",
        "I want to conduct a one-tailed z-test on whether the difference of the mean of region 3 to region 1 is larger than 0, using a significance level of 0.1%. Fill in the correct alternative hypothesis in the following mathematical statement:\n",
        "\n",
        "\\begin{align*}\n",
        "\\mathbf{H}_0 \\quad &: \\quad \\mu_3 - \\mu_1 = 0 \\\\\n",
        "\\mathbf{H}_1 \\quad &: \\quad \\mu_3 - \\mu_1\n",
        "\\end{align*}\n",
        "\n",
        "_You'll need to double click on this cell and edit the latex using one of the following latex commands:_\n",
        "1. \\lt\n",
        "2. \\gt\n",
        "3. \\neq\n",
        "\n",
        "Now conduct the test."
      ]
    },
    {
      "cell_type": "markdown",
      "metadata": {
        "id": "ay2BPPr_NXw4"
      },
      "source": [
        "### Exercise 1h) Bootstrap confidence intervals\n",
        "\n",
        "Build a 95% confidence interval on the heights of basketball players from region 2, using the bootstrap method. The following functions might help you:\n",
        "- [sampling with replacement](https://numpy.org/doc/stable/reference/random/generated/numpy.random.choice.html)\n",
        "- [removing NaNs](https://pandas.pydata.org/docs/reference/api/pandas.DataFrame.dropna.html)\n",
        "- [finding percentiles of a vector](https://numpy.org/doc/2.0/reference/generated/numpy.percentile.html)\n",
        "\n",
        "Comment on the difference between the upper and lower bounds of the bootstrap confidence interval, and the 2.5 / 97.5 percentiles of the raw data for region 2. Why are they so different?"
      ]
    },
    {
      "cell_type": "code",
      "execution_count": null,
      "metadata": {
        "id": "arQRqzYENXw4"
      },
      "outputs": [],
      "source": []
    }
  ],
  "metadata": {
    "kernelspec": {
      "display_name": "generalDatSci",
      "language": "python",
      "name": "python3"
    },
    "language_info": {
      "codemirror_mode": {
        "name": "ipython",
        "version": 3
      },
      "file_extension": ".py",
      "mimetype": "text/x-python",
      "name": "python",
      "nbconvert_exporter": "python",
      "pygments_lexer": "ipython3",
      "version": "3.12.2"
    },
    "colab": {
      "provenance": [],
      "include_colab_link": true
    }
  },
  "nbformat": 4,
  "nbformat_minor": 0
}